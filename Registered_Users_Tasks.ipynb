{
  "nbformat": 4,
  "nbformat_minor": 0,
  "metadata": {
    "colab": {
      "provenance": []
    },
    "kernelspec": {
      "name": "python3",
      "display_name": "Python 3"
    },
    "language_info": {
      "name": "python"
    }
  },
  "cells": [
    {
      "cell_type": "code",
      "execution_count": null,
      "metadata": {
        "id": "o-PBS5E6Wion"
      },
      "outputs": [],
      "source": [
        "!apt-get install -y nodejs\n",
        "!npm install -g n\n",
        "!n stable"
      ]
    },
    {
      "cell_type": "code",
      "source": [
        "const axios = require('axios');\n",
        "\n",
        "// Define the base URL for the API\n",
        "const BASE_URL = \"http://api.yourbookshop.com\";\n",
        "\n",
        "// Function to get all books using an async callback\n",
        "const getAllBooksAsync = (callback) => {\n",
        "  axios.get(`${BASE_URL}/books`)\n",
        "    .then(response => callback(null, response.data))\n",
        "    .catch(error => callback(error, null));\n",
        "};\n",
        "\n",
        "// Usage of the function\n",
        "getAllBooksAsync((error, books) => {\n",
        "  if (error) {\n",
        "    console.error('Error fetching books:', error);\n",
        "  } else {\n",
        "    console.log(books);\n",
        "    // Take a screenshot of the console output here\n",
        "  }\n",
        "});\n",
        "\n",
        "// Similar functions can be written for tasks 11 to 13 using Promises"
      ],
      "metadata": {
        "id": "Wt1FmZxxqhKK"
      },
      "execution_count": null,
      "outputs": []
    },
    {
      "cell_type": "code",
      "source": [
        "!node bookshop.js"
      ],
      "metadata": {
        "id": "tzQ3Nab_qyEJ"
      },
      "execution_count": null,
      "outputs": []
    }
  ]
}