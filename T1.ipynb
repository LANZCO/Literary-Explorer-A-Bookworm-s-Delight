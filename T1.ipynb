{
  "nbformat": 4,
  "nbformat_minor": 0,
  "metadata": {
    "colab": {
      "provenance": []
    },
    "kernelspec": {
      "name": "python3",
      "display_name": "Python 3"
    },
    "language_info": {
      "name": "python"
    }
  },
  "cells": [
    {
      "cell_type": "code",
      "execution_count": null,
      "metadata": {
        "id": "o-PBS5E6Wion"
      },
      "outputs": [],
      "source": [
        "import requests\n",
        "import json\n",
        "\n",
        "# Define the base URL for the API\n",
        "BASE_URL = \"http://api.yourbookshop.com\"\n",
        "\n",
        "# Function to make a GET request to the API\n",
        "def get_data(endpoint):\n",
        "    response = requests.get(f\"{BASE_URL}/{endpoint}\")\n",
        "    if response.status_code == 200:\n",
        "        return response.json()  # Return the JSON data\n",
        "    else:\n",
        "        return f\"Error: {response.status_code}\"\n",
        "\n",
        "# Function to make a POST request to the API\n",
        "def post_data(endpoint, data):\n",
        "    headers = {'Content-Type': 'application/json'}\n",
        "    response = requests.post(f\"{BASE_URL}/{endpoint}\", headers=headers, data=json.dumps(data))\n",
        "    if response.status_code == 201:\n",
        "        return response.json()  # Return the JSON data\n",
        "    else:\n",
        "        return f\"Error: {response.status_code}\"\n",
        "\n",
        "# Function to make a DELETE request to the API\n",
        "def delete_data(endpoint):\n",
        "    response = requests.delete(f\"{BASE_URL}/{endpoint}\")\n",
        "    if response.status_code == 204:\n",
        "        return \"Item deleted successfully\"\n",
        "    else:\n",
        "        return f\"Error: {response.status_code}\""
      ]
    },
    {
      "cell_type": "code",
      "source": [
        "books = get_data(\"books\")\n",
        "print(books)  # You would take a screenshot of the output here"
      ],
      "metadata": {
        "id": "HqMz8OLaWwDB"
      },
      "execution_count": null,
      "outputs": []
    }
  ]
}