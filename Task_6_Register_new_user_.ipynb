{
  "nbformat": 4,
  "nbformat_minor": 0,
  "metadata": {
    "colab": {
      "provenance": []
    },
    "kernelspec": {
      "name": "python3",
      "display_name": "Python 3"
    },
    "language_info": {
      "name": "python"
    }
  },
  "cells": [
    {
      "cell_type": "code",
      "execution_count": null,
      "metadata": {
        "id": "o-PBS5E6Wion"
      },
      "outputs": [],
      "source": [
        "new_user = {\n",
        "    \"username\": \"newuser\",\n",
        "    \"password\": \"securepassword\",\n",
        "    \"email\": \"newuser@example.com\"\n",
        "}\n",
        "registration_result = post_data(\"users\", new_user)\n",
        "print(registration_result)  # Take a screenshot of the successful registration"
      ]
    }
  ]
}